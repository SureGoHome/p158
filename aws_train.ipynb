{
 "cells": [
  {
   "cell_type": "code",
   "execution_count": null,
   "id": "3802534f",
   "metadata": {},
   "outputs": [],
   "source": [
    "!pip install -r requirements.txt"
   ]
  },
  {
   "cell_type": "code",
   "execution_count": null,
   "id": "8fbc661e",
   "metadata": {},
   "outputs": [],
   "source": [
    "!pip install sagemaker boto3 awscli"
   ]
  },
  {
   "cell_type": "code",
   "execution_count": null,
   "id": "b6a5e00e",
   "metadata": {},
   "outputs": [],
   "source": [
    "!aws s3 ls --profile asher"
   ]
  },
  {
   "cell_type": "code",
   "execution_count": null,
   "id": "16dc47ca",
   "metadata": {},
   "outputs": [],
   "source": [
    "local_dir = \"./data\""
   ]
  },
  {
   "cell_type": "code",
   "execution_count": 2,
   "id": "9f59a2bd",
   "metadata": {},
   "outputs": [
    {
     "name": "stdout",
     "output_type": "stream",
     "text": [
      "Role:  arn:aws:iam::345594598345:role/service-role/AmazonSageMaker-ExecutionRole-20250707T163996\n",
      "sagemaker-ap-southeast-1-345594598345\n"
     ]
    }
   ],
   "source": [
    "import sagemaker\n",
    "import boto3\n",
    "from sagemaker import get_execution_role\n",
    "from sagemaker.local import LocalSession\n",
    "role = \"arn:aws:iam::345594598345:role/service-role/AmazonSageMaker-ExecutionRole-20250707T163996\" # get_execution_role() #\n",
    "print(\"Role: \", role)\n",
    "sess = LocalSession()  # for local session\n",
    "# local_sess.config = {'local': {'local_code': True}}\n",
    "\n",
    "# sess = sagemaker.Session(boto_session=boto3.Session(region_name=\"ap-southeast-1\")) #name of sso session remove profile name in sagemaker studio , profile_name=\"asher\"\n",
    "# #for remote session\n",
    "# settings = dict(\n",
    "#     sagemaker_session=sess,\n",
    "#     role=role,\n",
    "#     instance_type=\"ml.t3.large\",\n",
    "#     dependencies='./requirements.txt',\n",
    "# )\n",
    "\n",
    "bucket_name = sess.default_bucket()\n",
    "print(bucket_name)"
   ]
  },
  {
   "cell_type": "markdown",
   "id": "924f7915",
   "metadata": {},
   "source": [
    "Uploaded training, testing and validation datasets to S3 bucket"
   ]
  },
  {
   "cell_type": "code",
   "execution_count": null,
   "id": "afd2b3e4",
   "metadata": {},
   "outputs": [],
   "source": [
    "# !aws s3 cp ./data s3://{bucket_name}/prostate158 --recursive --profile asher\n",
    "# print(\"Done!\")"
   ]
  },
  {
   "cell_type": "markdown",
   "id": "072598c1",
   "metadata": {},
   "source": [
    "Upload weights of pre-trained UNet model"
   ]
  },
  {
   "cell_type": "code",
   "execution_count": null,
   "id": "2aa3ccac",
   "metadata": {},
   "outputs": [],
   "source": [
    "# !aws s3 cp models/tumor.pt s3://{bucket_name}/models/tumor.pt --profile asher"
   ]
  },
  {
   "cell_type": "code",
   "execution_count": null,
   "id": "0daea875",
   "metadata": {},
   "outputs": [
    {
     "name": "stdout",
     "output_type": "stream",
     "text": [
      "{'train': 's3://sagemaker-ap-southeast-1-345594598345/prostate158/prostate158_train/train', 'test': 's3://sagemaker-ap-southeast-1-345594598345/prostate158/prostate158_test/test', 'model': 's3://sagemaker-ap-southeast-1-345594598345/models/tumor.pt'}\n"
     ]
    }
   ],
   "source": [
    "if bucket_name:\n",
    "    train_channel = f\"s3://{bucket_name}/prostate158/prostate158_train/train\"\n",
    "    test_channel = f\"s3://{bucket_name}/prostate158/prostate158_test/test\"\n",
    "    model_channel = f\"s3://{bucket_name}/models/tumor.pt\"\n",
    "inputs = {\"train\": train_channel, \"test\": test_channel, \"model\": model_channel}\n",
    "print(inputs)"
   ]
  },
  {
   "cell_type": "code",
   "execution_count": 5,
   "id": "2060c433",
   "metadata": {},
   "outputs": [
    {
     "name": "stdout",
     "output_type": "stream",
     "text": [
      "Collecting munch\n",
      "  Using cached munch-4.0.0-py2.py3-none-any.whl.metadata (5.9 kB)\n",
      "Using cached munch-4.0.0-py2.py3-none-any.whl (9.9 kB)\n",
      "Installing collected packages: munch\n",
      "Successfully installed munch-4.0.0\n"
     ]
    }
   ],
   "source": [
    "!pip install munch"
   ]
  },
  {
   "cell_type": "code",
   "execution_count": 5,
   "id": "c50c9f68",
   "metadata": {},
   "outputs": [],
   "source": [
    "import yaml\n",
    "from pathlib import Path\n",
    "from munch import Munch\n",
    "# config = yaml.safe_load(Path(\"tumor.yaml\").read_text())\n",
    "config = Munch.fromDict(yaml.safe_load(Path(\"tumor.yaml\").read_text()))\n"
   ]
  },
  {
   "cell_type": "code",
   "execution_count": 7,
   "id": "3e6a9081",
   "metadata": {},
   "outputs": [
    {
     "name": "stdout",
     "output_type": "stream",
     "text": [
      "CPU times: user 3.81 s, sys: 94 ms, total: 3.9 s\n",
      "Wall time: 3.99 s\n"
     ]
    },
    {
     "ename": "KeyboardInterrupt",
     "evalue": "",
     "output_type": "error",
     "traceback": [
      "\u001b[31m---------------------------------------------------------------------------\u001b[39m",
      "\u001b[31mKeyboardInterrupt\u001b[39m                         Traceback (most recent call last)",
      "\u001b[36mCell\u001b[39m\u001b[36m \u001b[39m\u001b[32mIn[7]\u001b[39m\u001b[32m, line 1\u001b[39m\n\u001b[32m----> \u001b[39m\u001b[32m1\u001b[39m \u001b[43mget_ipython\u001b[49m\u001b[43m(\u001b[49m\u001b[43m)\u001b[49m\u001b[43m.\u001b[49m\u001b[43mrun_cell_magic\u001b[49m\u001b[43m(\u001b[49m\u001b[33;43m'\u001b[39;49m\u001b[33;43mtime\u001b[39;49m\u001b[33;43m'\u001b[39;49m\u001b[43m,\u001b[49m\u001b[43m \u001b[49m\u001b[33;43m'\u001b[39;49m\u001b[33;43m'\u001b[39;49m\u001b[43m,\u001b[49m\u001b[43m \u001b[49m\u001b[33;43m'\u001b[39;49m\u001b[33;43mfrom sagemaker.pytorch.estimator import PyTorch\u001b[39;49m\u001b[38;5;130;43;01m\\n\u001b[39;49;00m\u001b[33;43mimport os\u001b[39;49m\u001b[38;5;130;43;01m\\n\u001b[39;49;00m\u001b[38;5;130;43;01m\\n\u001b[39;49;00m\u001b[33;43mimage = \u001b[39;49m\u001b[33;43m\"\u001b[39;49m\u001b[33;43m763104351884.dkr.ecr.ap-southeast-1.amazonaws.com/pytorch-training:2.6.0-gpu-py312-cu124-ubuntu22.04-sagemaker\u001b[39;49m\u001b[33;43m\"\u001b[39;49m\u001b[38;5;130;43;01m\\n\u001b[39;49;00m\u001b[38;5;130;43;01m\\n\u001b[39;49;00m\u001b[33;43mdef run_training():\u001b[39;49m\u001b[38;5;130;43;01m\\n\u001b[39;49;00m\u001b[33;43m    estimator = PyTorch(\u001b[39;49m\u001b[38;5;130;43;01m\\n\u001b[39;49;00m\u001b[33;43m        image_uri=image,\u001b[39;49m\u001b[38;5;130;43;01m\\n\u001b[39;49;00m\u001b[33;43m        entry_point=\u001b[39;49m\u001b[33;43m\"\u001b[39;49m\u001b[33;43mtrain_gpt.py\u001b[39;49m\u001b[33;43m\"\u001b[39;49m\u001b[33;43m,\u001b[39;49m\u001b[38;5;130;43;01m\\n\u001b[39;49;00m\u001b[33;43m        source_dir=\u001b[39;49m\u001b[33;43m\"\u001b[39;49m\u001b[33;43m.\u001b[39;49m\u001b[33;43m\"\u001b[39;49m\u001b[33;43m,\u001b[39;49m\u001b[38;5;130;43;01m\\n\u001b[39;49;00m\u001b[33;43m        role=role,\u001b[39;49m\u001b[38;5;130;43;01m\\n\u001b[39;49;00m\u001b[33;43m        region=\u001b[39;49m\u001b[33;43m\"\u001b[39;49m\u001b[33;43map-southeast-1\u001b[39;49m\u001b[33;43m\"\u001b[39;49m\u001b[33;43m,\u001b[39;49m\u001b[38;5;130;43;01m\\n\u001b[39;49;00m\u001b[33;43m        instance_type=\u001b[39;49m\u001b[33;43m\"\u001b[39;49m\u001b[33;43mml.g4dn.2xlarge\u001b[39;49m\u001b[33;43m\"\u001b[39;49m\u001b[33;43m, # ml.g5.xlarge ran out of memory halfway through 2nd epoch (free tier instance)\u001b[39;49m\u001b[38;5;130;43;01m\\n\u001b[39;49;00m\u001b[33;43m        # instance_type=\u001b[39;49m\u001b[38;5;130;43;01m\\'\u001b[39;49;00m\u001b[33;43mlocal\u001b[39;49m\u001b[38;5;130;43;01m\\'\u001b[39;49;00m\u001b[33;43m,\u001b[39;49m\u001b[38;5;130;43;01m\\n\u001b[39;49;00m\u001b[33;43m        instance_count=1,\u001b[39;49m\u001b[38;5;130;43;01m\\n\u001b[39;49;00m\u001b[33;43m        framework_version=\u001b[39;49m\u001b[33;43m\"\u001b[39;49m\u001b[33;43m2.6.0\u001b[39;49m\u001b[33;43m\"\u001b[39;49m\u001b[33;43m,\u001b[39;49m\u001b[38;5;130;43;01m\\n\u001b[39;49;00m\u001b[33;43m        py_version=\u001b[39;49m\u001b[33;43m\"\u001b[39;49m\u001b[33;43mpy312\u001b[39;49m\u001b[33;43m\"\u001b[39;49m\u001b[33;43m,\u001b[39;49m\u001b[38;5;130;43;01m\\n\u001b[39;49;00m\u001b[33;43m        enable_spot_training=True,  # for cost savings\u001b[39;49m\u001b[38;5;130;43;01m\\n\u001b[39;49;00m\u001b[33;43m        # max_run=3600,\u001b[39;49m\u001b[38;5;130;43;01m\\n\u001b[39;49;00m\u001b[33;43m        input_mode=\u001b[39;49m\u001b[33;43m\"\u001b[39;49m\u001b[33;43mFile\u001b[39;49m\u001b[33;43m\"\u001b[39;49m\u001b[33;43m,\u001b[39;49m\u001b[38;5;130;43;01m\\n\u001b[39;49;00m\u001b[33;43m        sagemaker_session=sess,\u001b[39;49m\u001b[38;5;130;43;01m\\n\u001b[39;49;00m\u001b[33;43m    )\u001b[39;49m\u001b[38;5;130;43;01m\\n\u001b[39;49;00m\u001b[33;43m    inputs=\u001b[39;49m\u001b[33;43m{\u001b[39;49m\u001b[38;5;130;43;01m\\n\u001b[39;49;00m\u001b[33;43m        \u001b[39;49m\u001b[33;43m\"\u001b[39;49m\u001b[33;43mtraining\u001b[39;49m\u001b[33;43m\"\u001b[39;49m\u001b[33;43m: train_channel,\u001b[39;49m\u001b[38;5;130;43;01m\\n\u001b[39;49;00m\u001b[33;43m        \u001b[39;49m\u001b[33;43m\"\u001b[39;49m\u001b[33;43mmodel\u001b[39;49m\u001b[33;43m\"\u001b[39;49m\u001b[33;43m: model_channel,\u001b[39;49m\u001b[38;5;130;43;01m\\n\u001b[39;49;00m\u001b[33;43m        \u001b[39;49m\u001b[33;43m\"\u001b[39;49m\u001b[33;43mtraining_config\u001b[39;49m\u001b[33;43m\"\u001b[39;49m\u001b[33;43m: \u001b[39;49m\u001b[33;43m\"\u001b[39;49m\u001b[33;43mtumor.yaml\u001b[39;49m\u001b[33;43m\"\u001b[39;49m\u001b[33;43m,\u001b[39;49m\u001b[38;5;130;43;01m\\n\u001b[39;49;00m\u001b[33;43m    }\u001b[39;49m\u001b[38;5;130;43;01m\\n\u001b[39;49;00m\u001b[33;43m    estimator.fit(inputs)\u001b[39;49m\u001b[38;5;130;43;01m\\n\u001b[39;49;00m\u001b[38;5;130;43;01m\\n\u001b[39;49;00m\u001b[33;43mrun_training()\u001b[39;49m\u001b[38;5;130;43;01m\\n\u001b[39;49;00m\u001b[33;43m'\u001b[39;49m\u001b[43m)\u001b[49m\n",
      "\u001b[36mFile \u001b[39m\u001b[32m~/miniforge3/envs/p158/lib/python3.12/site-packages/IPython/core/interactiveshell.py:2565\u001b[39m, in \u001b[36mInteractiveShell.run_cell_magic\u001b[39m\u001b[34m(self, magic_name, line, cell)\u001b[39m\n\u001b[32m   2563\u001b[39m \u001b[38;5;28;01mwith\u001b[39;00m \u001b[38;5;28mself\u001b[39m.builtin_trap:\n\u001b[32m   2564\u001b[39m     args = (magic_arg_s, cell)\n\u001b[32m-> \u001b[39m\u001b[32m2565\u001b[39m     result = \u001b[43mfn\u001b[49m\u001b[43m(\u001b[49m\u001b[43m*\u001b[49m\u001b[43margs\u001b[49m\u001b[43m,\u001b[49m\u001b[43m \u001b[49m\u001b[43m*\u001b[49m\u001b[43m*\u001b[49m\u001b[43mkwargs\u001b[49m\u001b[43m)\u001b[49m\n\u001b[32m   2567\u001b[39m \u001b[38;5;66;03m# The code below prevents the output from being displayed\u001b[39;00m\n\u001b[32m   2568\u001b[39m \u001b[38;5;66;03m# when using magics with decorator @output_can_be_silenced\u001b[39;00m\n\u001b[32m   2569\u001b[39m \u001b[38;5;66;03m# when the last Python token in the expression is a ';'.\u001b[39;00m\n\u001b[32m   2570\u001b[39m \u001b[38;5;28;01mif\u001b[39;00m \u001b[38;5;28mgetattr\u001b[39m(fn, magic.MAGIC_OUTPUT_CAN_BE_SILENCED, \u001b[38;5;28;01mFalse\u001b[39;00m):\n",
      "\u001b[36mFile \u001b[39m\u001b[32m~/miniforge3/envs/p158/lib/python3.12/site-packages/IPython/core/magics/execution.py:1470\u001b[39m, in \u001b[36mExecutionMagics.time\u001b[39m\u001b[34m(self, line, cell, local_ns)\u001b[39m\n\u001b[32m   1468\u001b[39m \u001b[38;5;28;01mif\u001b[39;00m interrupt_occured:\n\u001b[32m   1469\u001b[39m     \u001b[38;5;28;01mif\u001b[39;00m exit_on_interrupt \u001b[38;5;129;01mand\u001b[39;00m captured_exception:\n\u001b[32m-> \u001b[39m\u001b[32m1470\u001b[39m         \u001b[38;5;28;01mraise\u001b[39;00m captured_exception\n\u001b[32m   1471\u001b[39m     \u001b[38;5;28;01mreturn\u001b[39;00m\n\u001b[32m   1472\u001b[39m \u001b[38;5;28;01mreturn\u001b[39;00m out\n",
      "\u001b[36mFile \u001b[39m\u001b[32m~/miniforge3/envs/p158/lib/python3.12/site-packages/IPython/core/magics/execution.py:1439\u001b[39m, in \u001b[36mExecutionMagics.time\u001b[39m\u001b[34m(self, line, cell, local_ns)\u001b[39m\n\u001b[32m   1437\u001b[39m     \u001b[38;5;28;01mif\u001b[39;00m expr_val \u001b[38;5;129;01mis\u001b[39;00m \u001b[38;5;129;01mnot\u001b[39;00m \u001b[38;5;28;01mNone\u001b[39;00m:\n\u001b[32m   1438\u001b[39m         code_2 = \u001b[38;5;28mself\u001b[39m.shell.compile(expr_val, source, \u001b[33m'\u001b[39m\u001b[33meval\u001b[39m\u001b[33m'\u001b[39m)\n\u001b[32m-> \u001b[39m\u001b[32m1439\u001b[39m         out = \u001b[38;5;28;43meval\u001b[39;49m\u001b[43m(\u001b[49m\u001b[43mcode_2\u001b[49m\u001b[43m,\u001b[49m\u001b[43m \u001b[49m\u001b[43mglob\u001b[49m\u001b[43m,\u001b[49m\u001b[43m \u001b[49m\u001b[43mlocal_ns\u001b[49m\u001b[43m)\u001b[49m\n\u001b[32m   1440\u001b[39m \u001b[38;5;28;01mexcept\u001b[39;00m \u001b[38;5;167;01mKeyboardInterrupt\u001b[39;00m \u001b[38;5;28;01mas\u001b[39;00m e:\n\u001b[32m   1441\u001b[39m     captured_exception = e\n",
      "\u001b[36mFile \u001b[39m\u001b[32m<timed exec>:30\u001b[39m\n",
      "\u001b[36mFile \u001b[39m\u001b[32m<timed exec>:28\u001b[39m, in \u001b[36mrun_training\u001b[39m\u001b[34m()\u001b[39m\n",
      "\u001b[36mFile \u001b[39m\u001b[32m~/miniforge3/envs/p158/lib/python3.12/site-packages/sagemaker/workflow/pipeline_context.py:176\u001b[39m, in \u001b[36mrunnable_by_pipeline.<locals>.wrapper\u001b[39m\u001b[34m(*args, **kwargs)\u001b[39m\n\u001b[32m    173\u001b[39m     run_func(*args, **kwargs)\n\u001b[32m    174\u001b[39m     \u001b[38;5;28;01mreturn\u001b[39;00m self_instance.sagemaker_session.context\n\u001b[32m--> \u001b[39m\u001b[32m176\u001b[39m \u001b[38;5;28;01mreturn\u001b[39;00m \u001b[43mrun_func\u001b[49m\u001b[43m(\u001b[49m\u001b[43m*\u001b[49m\u001b[43margs\u001b[49m\u001b[43m,\u001b[49m\u001b[43m \u001b[49m\u001b[43m*\u001b[49m\u001b[43m*\u001b[49m\u001b[43mkwargs\u001b[49m\u001b[43m)\u001b[49m\n",
      "\u001b[36mFile \u001b[39m\u001b[32m~/miniforge3/envs/p158/lib/python3.12/site-packages/sagemaker/estimator.py:975\u001b[39m, in \u001b[36mEstimatorBase.fit\u001b[39m\u001b[34m(self, inputs, wait, logs, job_name, experiment_config)\u001b[39m\n\u001b[32m    923\u001b[39m \u001b[38;5;129m@runnable_by_pipeline\u001b[39m\n\u001b[32m    924\u001b[39m \u001b[38;5;28;01mdef\u001b[39;00m\u001b[38;5;250m \u001b[39m\u001b[34mfit\u001b[39m(\u001b[38;5;28mself\u001b[39m, inputs=\u001b[38;5;28;01mNone\u001b[39;00m, wait=\u001b[38;5;28;01mTrue\u001b[39;00m, logs=\u001b[33m\"\u001b[39m\u001b[33mAll\u001b[39m\u001b[33m\"\u001b[39m, job_name=\u001b[38;5;28;01mNone\u001b[39;00m, experiment_config=\u001b[38;5;28;01mNone\u001b[39;00m):\n\u001b[32m    925\u001b[39m \u001b[38;5;250m    \u001b[39m\u001b[33;03m\"\"\"Train a model using the input training dataset.\u001b[39;00m\n\u001b[32m    926\u001b[39m \n\u001b[32m    927\u001b[39m \u001b[33;03m    The API calls the Amazon SageMaker CreateTrainingJob API to start\u001b[39;00m\n\u001b[32m   (...)\u001b[39m\u001b[32m    973\u001b[39m \u001b[33;03m            * `TrialComponentDisplayName` is used for display in Studio.\u001b[39;00m\n\u001b[32m    974\u001b[39m \u001b[33;03m    \"\"\"\u001b[39;00m\n\u001b[32m--> \u001b[39m\u001b[32m975\u001b[39m     \u001b[38;5;28;43mself\u001b[39;49m\u001b[43m.\u001b[49m\u001b[43m_prepare_for_training\u001b[49m\u001b[43m(\u001b[49m\u001b[43mjob_name\u001b[49m\u001b[43m=\u001b[49m\u001b[43mjob_name\u001b[49m\u001b[43m)\u001b[49m\n\u001b[32m    977\u001b[39m     \u001b[38;5;28mself\u001b[39m.latest_training_job = _TrainingJob.start_new(\u001b[38;5;28mself\u001b[39m, inputs, experiment_config)\n\u001b[32m    978\u001b[39m     \u001b[38;5;28mself\u001b[39m.jobs.append(\u001b[38;5;28mself\u001b[39m.latest_training_job)\n",
      "\u001b[36mFile \u001b[39m\u001b[32m~/miniforge3/envs/p158/lib/python3.12/site-packages/sagemaker/estimator.py:2694\u001b[39m, in \u001b[36mFramework._prepare_for_training\u001b[39m\u001b[34m(self, job_name)\u001b[39m\n\u001b[32m   2686\u001b[39m \u001b[38;5;28;01mdef\u001b[39;00m\u001b[38;5;250m \u001b[39m\u001b[34m_prepare_for_training\u001b[39m(\u001b[38;5;28mself\u001b[39m, job_name=\u001b[38;5;28;01mNone\u001b[39;00m):\n\u001b[32m   2687\u001b[39m \u001b[38;5;250m    \u001b[39m\u001b[33;03m\"\"\"Set hyperparameters needed for training. This method will also validate ``source_dir``.\u001b[39;00m\n\u001b[32m   2688\u001b[39m \n\u001b[32m   2689\u001b[39m \u001b[33;03m    Args:\u001b[39;00m\n\u001b[32m   (...)\u001b[39m\u001b[32m   2692\u001b[39m \u001b[33;03m            constructor if applicable.\u001b[39;00m\n\u001b[32m   2693\u001b[39m \u001b[33;03m    \"\"\"\u001b[39;00m\n\u001b[32m-> \u001b[39m\u001b[32m2694\u001b[39m     \u001b[38;5;28;43msuper\u001b[39;49m\u001b[43m(\u001b[49m\u001b[43mFramework\u001b[49m\u001b[43m,\u001b[49m\u001b[43m \u001b[49m\u001b[38;5;28;43mself\u001b[39;49m\u001b[43m)\u001b[49m\u001b[43m.\u001b[49m\u001b[43m_prepare_for_training\u001b[49m\u001b[43m(\u001b[49m\u001b[43mjob_name\u001b[49m\u001b[43m=\u001b[49m\u001b[43mjob_name\u001b[49m\u001b[43m)\u001b[49m\n\u001b[32m   2696\u001b[39m     \u001b[38;5;28mself\u001b[39m._validate_and_set_debugger_configs()\n",
      "\u001b[36mFile \u001b[39m\u001b[32m~/miniforge3/envs/p158/lib/python3.12/site-packages/sagemaker/estimator.py:665\u001b[39m, in \u001b[36mEstimatorBase._prepare_for_training\u001b[39m\u001b[34m(self, job_name)\u001b[39m\n\u001b[32m    663\u001b[39m     \u001b[38;5;28mself\u001b[39m.code_uri = \u001b[38;5;28mself\u001b[39m.uploaded_code.s3_prefix\n\u001b[32m    664\u001b[39m \u001b[38;5;28;01melse\u001b[39;00m:\n\u001b[32m--> \u001b[39m\u001b[32m665\u001b[39m     \u001b[38;5;28mself\u001b[39m.uploaded_code = \u001b[38;5;28;43mself\u001b[39;49m\u001b[43m.\u001b[49m\u001b[43m_stage_user_code_in_s3\u001b[49m\u001b[43m(\u001b[49m\u001b[43m)\u001b[49m\n\u001b[32m    666\u001b[39m     code_dir = \u001b[38;5;28mself\u001b[39m.uploaded_code.s3_prefix\n\u001b[32m    667\u001b[39m     script = \u001b[38;5;28mself\u001b[39m.uploaded_code.script_name\n",
      "\u001b[36mFile \u001b[39m\u001b[32m~/miniforge3/envs/p158/lib/python3.12/site-packages/sagemaker/estimator.py:738\u001b[39m, in \u001b[36mEstimatorBase._stage_user_code_in_s3\u001b[39m\u001b[34m(self)\u001b[39m\n\u001b[32m    735\u001b[39m             output_bucket, _ = parse_s3_url(\u001b[38;5;28mself\u001b[39m.output_path)\n\u001b[32m    736\u001b[39m             kms_key = \u001b[38;5;28mself\u001b[39m.output_kms_key \u001b[38;5;28;01mif\u001b[39;00m code_bucket == output_bucket \u001b[38;5;28;01melse\u001b[39;00m \u001b[38;5;28;01mNone\u001b[39;00m\n\u001b[32m--> \u001b[39m\u001b[32m738\u001b[39m \u001b[38;5;28;01mreturn\u001b[39;00m \u001b[43mtar_and_upload_dir\u001b[49m\u001b[43m(\u001b[49m\n\u001b[32m    739\u001b[39m \u001b[43m    \u001b[49m\u001b[43msession\u001b[49m\u001b[43m=\u001b[49m\u001b[38;5;28;43mself\u001b[39;49m\u001b[43m.\u001b[49m\u001b[43msagemaker_session\u001b[49m\u001b[43m.\u001b[49m\u001b[43mboto_session\u001b[49m\u001b[43m,\u001b[49m\n\u001b[32m    740\u001b[39m \u001b[43m    \u001b[49m\u001b[43mbucket\u001b[49m\u001b[43m=\u001b[49m\u001b[43mcode_bucket\u001b[49m\u001b[43m,\u001b[49m\n\u001b[32m    741\u001b[39m \u001b[43m    \u001b[49m\u001b[43ms3_key_prefix\u001b[49m\u001b[43m=\u001b[49m\u001b[43mcode_s3_prefix\u001b[49m\u001b[43m,\u001b[49m\n\u001b[32m    742\u001b[39m \u001b[43m    \u001b[49m\u001b[43mscript\u001b[49m\u001b[43m=\u001b[49m\u001b[38;5;28;43mself\u001b[39;49m\u001b[43m.\u001b[49m\u001b[43mentry_point\u001b[49m\u001b[43m,\u001b[49m\n\u001b[32m    743\u001b[39m \u001b[43m    \u001b[49m\u001b[43mdirectory\u001b[49m\u001b[43m=\u001b[49m\u001b[38;5;28;43mself\u001b[39;49m\u001b[43m.\u001b[49m\u001b[43msource_dir\u001b[49m\u001b[43m,\u001b[49m\n\u001b[32m    744\u001b[39m \u001b[43m    \u001b[49m\u001b[43mdependencies\u001b[49m\u001b[43m=\u001b[49m\u001b[38;5;28;43mself\u001b[39;49m\u001b[43m.\u001b[49m\u001b[43mdependencies\u001b[49m\u001b[43m,\u001b[49m\n\u001b[32m    745\u001b[39m \u001b[43m    \u001b[49m\u001b[43mkms_key\u001b[49m\u001b[43m=\u001b[49m\u001b[43mkms_key\u001b[49m\u001b[43m,\u001b[49m\n\u001b[32m    746\u001b[39m \u001b[43m    \u001b[49m\u001b[43ms3_resource\u001b[49m\u001b[43m=\u001b[49m\u001b[38;5;28;43mself\u001b[39;49m\u001b[43m.\u001b[49m\u001b[43msagemaker_session\u001b[49m\u001b[43m.\u001b[49m\u001b[43ms3_resource\u001b[49m\u001b[43m,\u001b[49m\n\u001b[32m    747\u001b[39m \u001b[43m    \u001b[49m\u001b[43msettings\u001b[49m\u001b[43m=\u001b[49m\u001b[38;5;28;43mself\u001b[39;49m\u001b[43m.\u001b[49m\u001b[43msagemaker_session\u001b[49m\u001b[43m.\u001b[49m\u001b[43msettings\u001b[49m\u001b[43m,\u001b[49m\n\u001b[32m    748\u001b[39m \u001b[43m\u001b[49m\u001b[43m)\u001b[49m\n",
      "\u001b[36mFile \u001b[39m\u001b[32m~/miniforge3/envs/p158/lib/python3.12/site-packages/sagemaker/fw_utils.py:277\u001b[39m, in \u001b[36mtar_and_upload_dir\u001b[39m\u001b[34m(session, bucket, s3_key_prefix, script, directory, dependencies, kms_key, s3_resource, settings)\u001b[39m\n\u001b[32m    275\u001b[39m \u001b[38;5;28;01mtry\u001b[39;00m:\n\u001b[32m    276\u001b[39m     source_files = _list_files_to_compress(script, directory) + dependencies\n\u001b[32m--> \u001b[39m\u001b[32m277\u001b[39m     tar_file = \u001b[43msagemaker\u001b[49m\u001b[43m.\u001b[49m\u001b[43mutils\u001b[49m\u001b[43m.\u001b[49m\u001b[43mcreate_tar_file\u001b[49m\u001b[43m(\u001b[49m\n\u001b[32m    278\u001b[39m \u001b[43m        \u001b[49m\u001b[43msource_files\u001b[49m\u001b[43m,\u001b[49m\u001b[43m \u001b[49m\u001b[43mos\u001b[49m\u001b[43m.\u001b[49m\u001b[43mpath\u001b[49m\u001b[43m.\u001b[49m\u001b[43mjoin\u001b[49m\u001b[43m(\u001b[49m\u001b[43mtmp\u001b[49m\u001b[43m,\u001b[49m\u001b[43m \u001b[49m\u001b[43m_TAR_SOURCE_FILENAME\u001b[49m\u001b[43m)\u001b[49m\n\u001b[32m    279\u001b[39m \u001b[43m    \u001b[49m\u001b[43m)\u001b[49m\n\u001b[32m    281\u001b[39m     \u001b[38;5;28;01mif\u001b[39;00m kms_key:\n\u001b[32m    282\u001b[39m         extra_args = {\u001b[33m\"\u001b[39m\u001b[33mServerSideEncryption\u001b[39m\u001b[33m\"\u001b[39m: \u001b[33m\"\u001b[39m\u001b[33maws:kms\u001b[39m\u001b[33m\"\u001b[39m, \u001b[33m\"\u001b[39m\u001b[33mSSEKMSKeyId\u001b[39m\u001b[33m\"\u001b[39m: kms_key}\n",
      "\u001b[36mFile \u001b[39m\u001b[32m~/miniforge3/envs/p158/lib/python3.12/site-packages/sagemaker/utils.py:342\u001b[39m, in \u001b[36mcreate_tar_file\u001b[39m\u001b[34m(source_files, target)\u001b[39m\n\u001b[32m    339\u001b[39m \u001b[38;5;28;01mwith\u001b[39;00m tarfile.open(filename, mode=\u001b[33m\"\u001b[39m\u001b[33mw:gz\u001b[39m\u001b[33m\"\u001b[39m, dereference=\u001b[38;5;28;01mTrue\u001b[39;00m) \u001b[38;5;28;01mas\u001b[39;00m t:\n\u001b[32m    340\u001b[39m     \u001b[38;5;28;01mfor\u001b[39;00m sf \u001b[38;5;129;01min\u001b[39;00m source_files:\n\u001b[32m    341\u001b[39m         \u001b[38;5;66;03m# Add all files from the directory into the root of the directory structure of the tar\u001b[39;00m\n\u001b[32m--> \u001b[39m\u001b[32m342\u001b[39m         \u001b[43mt\u001b[49m\u001b[43m.\u001b[49m\u001b[43madd\u001b[49m\u001b[43m(\u001b[49m\u001b[43msf\u001b[49m\u001b[43m,\u001b[49m\u001b[43m \u001b[49m\u001b[43marcname\u001b[49m\u001b[43m=\u001b[49m\u001b[43mos\u001b[49m\u001b[43m.\u001b[49m\u001b[43mpath\u001b[49m\u001b[43m.\u001b[49m\u001b[43mbasename\u001b[49m\u001b[43m(\u001b[49m\u001b[43msf\u001b[49m\u001b[43m)\u001b[49m\u001b[43m)\u001b[49m\n\u001b[32m    343\u001b[39m \u001b[38;5;28;01mreturn\u001b[39;00m filename\n",
      "\u001b[36mFile \u001b[39m\u001b[32m~/miniforge3/envs/p158/lib/python3.12/tarfile.py:2236\u001b[39m, in \u001b[36mTarFile.add\u001b[39m\u001b[34m(self, name, arcname, recursive, filter)\u001b[39m\n\u001b[32m   2234\u001b[39m     \u001b[38;5;28;01mif\u001b[39;00m recursive:\n\u001b[32m   2235\u001b[39m         \u001b[38;5;28;01mfor\u001b[39;00m f \u001b[38;5;129;01min\u001b[39;00m \u001b[38;5;28msorted\u001b[39m(os.listdir(name)):\n\u001b[32m-> \u001b[39m\u001b[32m2236\u001b[39m             \u001b[38;5;28;43mself\u001b[39;49m\u001b[43m.\u001b[49m\u001b[43madd\u001b[49m\u001b[43m(\u001b[49m\u001b[43mos\u001b[49m\u001b[43m.\u001b[49m\u001b[43mpath\u001b[49m\u001b[43m.\u001b[49m\u001b[43mjoin\u001b[49m\u001b[43m(\u001b[49m\u001b[43mname\u001b[49m\u001b[43m,\u001b[49m\u001b[43m \u001b[49m\u001b[43mf\u001b[49m\u001b[43m)\u001b[49m\u001b[43m,\u001b[49m\u001b[43m \u001b[49m\u001b[43mos\u001b[49m\u001b[43m.\u001b[49m\u001b[43mpath\u001b[49m\u001b[43m.\u001b[49m\u001b[43mjoin\u001b[49m\u001b[43m(\u001b[49m\u001b[43marcname\u001b[49m\u001b[43m,\u001b[49m\u001b[43m \u001b[49m\u001b[43mf\u001b[49m\u001b[43m)\u001b[49m\u001b[43m,\u001b[49m\n\u001b[32m   2237\u001b[39m \u001b[43m                    \u001b[49m\u001b[43mrecursive\u001b[49m\u001b[43m,\u001b[49m\u001b[43m \u001b[49m\u001b[38;5;28;43mfilter\u001b[39;49m\u001b[43m=\u001b[49m\u001b[38;5;28;43mfilter\u001b[39;49m\u001b[43m)\u001b[49m\n\u001b[32m   2239\u001b[39m \u001b[38;5;28;01melse\u001b[39;00m:\n\u001b[32m   2240\u001b[39m     \u001b[38;5;28mself\u001b[39m.addfile(tarinfo)\n",
      "\u001b[36mFile \u001b[39m\u001b[32m~/miniforge3/envs/p158/lib/python3.12/tarfile.py:2230\u001b[39m, in \u001b[36mTarFile.add\u001b[39m\u001b[34m(self, name, arcname, recursive, filter)\u001b[39m\n\u001b[32m   2228\u001b[39m \u001b[38;5;28;01mif\u001b[39;00m tarinfo.isreg():\n\u001b[32m   2229\u001b[39m     \u001b[38;5;28;01mwith\u001b[39;00m bltn_open(name, \u001b[33m\"\u001b[39m\u001b[33mrb\u001b[39m\u001b[33m\"\u001b[39m) \u001b[38;5;28;01mas\u001b[39;00m f:\n\u001b[32m-> \u001b[39m\u001b[32m2230\u001b[39m         \u001b[38;5;28;43mself\u001b[39;49m\u001b[43m.\u001b[49m\u001b[43maddfile\u001b[49m\u001b[43m(\u001b[49m\u001b[43mtarinfo\u001b[49m\u001b[43m,\u001b[49m\u001b[43m \u001b[49m\u001b[43mf\u001b[49m\u001b[43m)\u001b[49m\n\u001b[32m   2232\u001b[39m \u001b[38;5;28;01melif\u001b[39;00m tarinfo.isdir():\n\u001b[32m   2233\u001b[39m     \u001b[38;5;28mself\u001b[39m.addfile(tarinfo)\n",
      "\u001b[36mFile \u001b[39m\u001b[32m~/miniforge3/envs/p158/lib/python3.12/tarfile.py:2258\u001b[39m, in \u001b[36mTarFile.addfile\u001b[39m\u001b[34m(self, tarinfo, fileobj)\u001b[39m\n\u001b[32m   2256\u001b[39m \u001b[38;5;66;03m# If there's data to follow, append it.\u001b[39;00m\n\u001b[32m   2257\u001b[39m \u001b[38;5;28;01mif\u001b[39;00m fileobj \u001b[38;5;129;01mis\u001b[39;00m \u001b[38;5;129;01mnot\u001b[39;00m \u001b[38;5;28;01mNone\u001b[39;00m:\n\u001b[32m-> \u001b[39m\u001b[32m2258\u001b[39m     \u001b[43mcopyfileobj\u001b[49m\u001b[43m(\u001b[49m\u001b[43mfileobj\u001b[49m\u001b[43m,\u001b[49m\u001b[43m \u001b[49m\u001b[38;5;28;43mself\u001b[39;49m\u001b[43m.\u001b[49m\u001b[43mfileobj\u001b[49m\u001b[43m,\u001b[49m\u001b[43m \u001b[49m\u001b[43mtarinfo\u001b[49m\u001b[43m.\u001b[49m\u001b[43msize\u001b[49m\u001b[43m,\u001b[49m\u001b[43m \u001b[49m\u001b[43mbufsize\u001b[49m\u001b[43m=\u001b[49m\u001b[43mbufsize\u001b[49m\u001b[43m)\u001b[49m\n\u001b[32m   2259\u001b[39m     blocks, remainder = \u001b[38;5;28mdivmod\u001b[39m(tarinfo.size, BLOCKSIZE)\n\u001b[32m   2260\u001b[39m     \u001b[38;5;28;01mif\u001b[39;00m remainder > \u001b[32m0\u001b[39m:\n",
      "\u001b[36mFile \u001b[39m\u001b[32m~/miniforge3/envs/p158/lib/python3.12/tarfile.py:254\u001b[39m, in \u001b[36mcopyfileobj\u001b[39m\u001b[34m(src, dst, length, exception, bufsize)\u001b[39m\n\u001b[32m    252\u001b[39m     \u001b[38;5;28;01mif\u001b[39;00m \u001b[38;5;28mlen\u001b[39m(buf) < bufsize:\n\u001b[32m    253\u001b[39m         \u001b[38;5;28;01mraise\u001b[39;00m exception(\u001b[33m\"\u001b[39m\u001b[33munexpected end of data\u001b[39m\u001b[33m\"\u001b[39m)\n\u001b[32m--> \u001b[39m\u001b[32m254\u001b[39m     \u001b[43mdst\u001b[49m\u001b[43m.\u001b[49m\u001b[43mwrite\u001b[49m\u001b[43m(\u001b[49m\u001b[43mbuf\u001b[49m\u001b[43m)\u001b[49m\n\u001b[32m    256\u001b[39m \u001b[38;5;28;01mif\u001b[39;00m remainder != \u001b[32m0\u001b[39m:\n\u001b[32m    257\u001b[39m     buf = src.read(remainder)\n",
      "\u001b[36mFile \u001b[39m\u001b[32m~/miniforge3/envs/p158/lib/python3.12/gzip.py:314\u001b[39m, in \u001b[36mGzipFile.write\u001b[39m\u001b[34m(self, data)\u001b[39m\n\u001b[32m    311\u001b[39m \u001b[38;5;28;01mif\u001b[39;00m \u001b[38;5;28mself\u001b[39m.fileobj \u001b[38;5;129;01mis\u001b[39;00m \u001b[38;5;28;01mNone\u001b[39;00m:\n\u001b[32m    312\u001b[39m     \u001b[38;5;28;01mraise\u001b[39;00m \u001b[38;5;167;01mValueError\u001b[39;00m(\u001b[33m\"\u001b[39m\u001b[33mwrite() on closed GzipFile object\u001b[39m\u001b[33m\"\u001b[39m)\n\u001b[32m--> \u001b[39m\u001b[32m314\u001b[39m \u001b[38;5;28;01mreturn\u001b[39;00m \u001b[38;5;28;43mself\u001b[39;49m\u001b[43m.\u001b[49m\u001b[43m_buffer\u001b[49m\u001b[43m.\u001b[49m\u001b[43mwrite\u001b[49m\u001b[43m(\u001b[49m\u001b[43mdata\u001b[49m\u001b[43m)\u001b[49m\n",
      "\u001b[36mFile \u001b[39m\u001b[32m~/miniforge3/envs/p158/lib/python3.12/gzip.py:137\u001b[39m, in \u001b[36m_WriteBufferStream.write\u001b[39m\u001b[34m(self, data)\u001b[39m\n\u001b[32m    135\u001b[39m \u001b[38;5;28;01mif\u001b[39;00m gzip_file \u001b[38;5;129;01mis\u001b[39;00m \u001b[38;5;28;01mNone\u001b[39;00m:\n\u001b[32m    136\u001b[39m     \u001b[38;5;28;01mraise\u001b[39;00m \u001b[38;5;167;01mRuntimeError\u001b[39;00m(\u001b[33m\"\u001b[39m\u001b[33mlost gzip_file\u001b[39m\u001b[33m\"\u001b[39m)\n\u001b[32m--> \u001b[39m\u001b[32m137\u001b[39m \u001b[38;5;28;01mreturn\u001b[39;00m \u001b[43mgzip_file\u001b[49m\u001b[43m.\u001b[49m\u001b[43m_write_raw\u001b[49m\u001b[43m(\u001b[49m\u001b[43mdata\u001b[49m\u001b[43m)\u001b[49m\n",
      "\u001b[36mFile \u001b[39m\u001b[32m~/miniforge3/envs/p158/lib/python3.12/gzip.py:326\u001b[39m, in \u001b[36mGzipFile._write_raw\u001b[39m\u001b[34m(self, data)\u001b[39m\n\u001b[32m    323\u001b[39m     length = data.nbytes\n\u001b[32m    325\u001b[39m \u001b[38;5;28;01mif\u001b[39;00m length > \u001b[32m0\u001b[39m:\n\u001b[32m--> \u001b[39m\u001b[32m326\u001b[39m     \u001b[38;5;28mself\u001b[39m.fileobj.write(\u001b[38;5;28;43mself\u001b[39;49m\u001b[43m.\u001b[49m\u001b[43mcompress\u001b[49m\u001b[43m.\u001b[49m\u001b[43mcompress\u001b[49m\u001b[43m(\u001b[49m\u001b[43mdata\u001b[49m\u001b[43m)\u001b[49m)\n\u001b[32m    327\u001b[39m     \u001b[38;5;28mself\u001b[39m.size += length\n\u001b[32m    328\u001b[39m     \u001b[38;5;28mself\u001b[39m.crc = zlib.crc32(data, \u001b[38;5;28mself\u001b[39m.crc)\n",
      "\u001b[31mKeyboardInterrupt\u001b[39m: "
     ]
    }
   ],
   "source": [
    "%%time\n",
    "from sagemaker.pytorch.estimator import PyTorch\n",
    "import os\n",
    "\n",
    "image = \"763104351884.dkr.ecr.ap-southeast-1.amazonaws.com/pytorch-training:2.6.0-gpu-py312-cu124-ubuntu22.04-sagemaker\"\n",
    "\n",
    "def run_training():\n",
    "    estimator = PyTorch(\n",
    "        image_uri=image,\n",
    "        entry_point=\"train_gpt.py\",\n",
    "        source_dir=\".\",\n",
    "        role=role,\n",
    "        region=\"ap-southeast-1\",\n",
    "        instance_type=\"ml.g4dn.2xlarge\", # ml.g5.xlarge ran out of memory halfway through 2nd epoch (free tier instance)\n",
    "        # instance_type='local',\n",
    "        instance_count=1,\n",
    "        framework_version=\"2.6.0\",\n",
    "        py_version=\"py312\",\n",
    "        enable_spot_training=True,  # for cost savings\n",
    "        # max_run=3600,\n",
    "        input_mode=\"File\",\n",
    "        sagemaker_session=sess,\n",
    "    )\n",
    "    inputs={\n",
    "        \"training\": train_channel,\n",
    "        \"model\": model_channel,\n",
    "        \"training_config\": \"tumor.yaml\",\n",
    "    }\n",
    "    estimator.fit(inputs)\n",
    "\n",
    "run_training()"
   ]
  },
  {
   "cell_type": "code",
   "execution_count": 12,
   "id": "34073fd5",
   "metadata": {},
   "outputs": [
    {
     "name": "stdout",
     "output_type": "stream",
     "text": [
      "tar: Ignoring unknown extended header keyword 'LIBARCHIVE.creationtime'\n",
      "network_tumor_1_key_metric=0.0066.pt\n"
     ]
    }
   ],
   "source": [
    "# !aws s3 cp s3://sagemaker-ap-southeast-1-345594598345/pytorch-training-2025-07-15-08-01-51-392/output/model.tar.gz .\n",
    "!tar -xvzf model.tar.gz\n"
   ]
  },
  {
   "cell_type": "code",
   "execution_count": null,
   "id": "8d4976e2",
   "metadata": {},
   "outputs": [],
   "source": []
  }
 ],
 "metadata": {
  "kernelspec": {
   "display_name": "p158",
   "language": "python",
   "name": "python3"
  },
  "language_info": {
   "codemirror_mode": {
    "name": "ipython",
    "version": 3
   },
   "file_extension": ".py",
   "mimetype": "text/x-python",
   "name": "python",
   "nbconvert_exporter": "python",
   "pygments_lexer": "ipython3",
   "version": "3.12.11"
  }
 },
 "nbformat": 4,
 "nbformat_minor": 5
}
