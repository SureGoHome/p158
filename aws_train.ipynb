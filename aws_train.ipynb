{
 "cells": [
  {
   "cell_type": "code",
   "execution_count": null,
   "id": "3802534f",
   "metadata": {},
   "outputs": [],
   "source": [
    "!pip install -r requirements.txt"
   ]
  },
  {
   "cell_type": "code",
   "execution_count": null,
   "id": "8fbc661e",
   "metadata": {},
   "outputs": [],
   "source": [
    "!pip install sagemaker boto3 awscli"
   ]
  },
  {
   "cell_type": "code",
   "execution_count": null,
   "id": "b6a5e00e",
   "metadata": {},
   "outputs": [],
   "source": [
    "!aws s3 ls --profile asher"
   ]
  },
  {
   "cell_type": "code",
   "execution_count": null,
   "id": "16dc47ca",
   "metadata": {},
   "outputs": [],
   "source": [
    "local_dir = \"./data\""
   ]
  },
  {
   "cell_type": "code",
   "execution_count": null,
   "id": "9f59a2bd",
   "metadata": {},
   "outputs": [],
   "source": [
    "import sagemaker\n",
    "import boto3\n",
    "from sagemaker import get_execution_role\n",
    "from sagemaker.local import LocalSession\n",
    "role = \"arn:aws:iam::345594598345:role/service-role/AmazonSageMaker-ExecutionRole-20250707T163996\" # get_execution_role() #\n",
    "print(\"Role: \", role)\n",
    "# local_sess = LocalSession()  # for local session\n",
    "# local_sess.config = {'local': {'local_code': True}}\n",
    "\n",
    "sess = sagemaker.Session(boto_session=boto3.Session(region_name=\"ap-southeast-1\", profile_name=\"asher\")) #name of sso session\n",
    "# #for remote session\n",
    "settings = dict(\n",
    "    sagemaker_session=sess,\n",
    "    role=role,\n",
    "    instance_type=\"ml.t3.large\",\n",
    "    dependencies='./requirements.txt',\n",
    ")\n",
    "\n",
    "bucket_name = sess.default_bucket()\n",
    "print(bucket_name)"
   ]
  },
  {
   "cell_type": "markdown",
   "id": "924f7915",
   "metadata": {},
   "source": [
    "Uploaded training, testing and validation datasets to S3 bucket"
   ]
  },
  {
   "cell_type": "code",
   "execution_count": null,
   "id": "afd2b3e4",
   "metadata": {},
   "outputs": [],
   "source": [
    "# !aws s3 cp ./data s3://{bucket_name}/prostate158 --recursive --profile asher\n",
    "# print(\"Done!\")"
   ]
  },
  {
   "cell_type": "markdown",
   "id": "072598c1",
   "metadata": {},
   "source": [
    "Upload weights of pre-trained UNet model"
   ]
  },
  {
   "cell_type": "code",
   "execution_count": null,
   "id": "2aa3ccac",
   "metadata": {},
   "outputs": [],
   "source": [
    "# !aws s3 cp models/tumor.pt s3://{bucket_name}/models/tumor.pt --profile asher"
   ]
  },
  {
   "cell_type": "code",
   "execution_count": null,
   "id": "0daea875",
   "metadata": {},
   "outputs": [],
   "source": [
    "if bucket_name:\n",
    "    train_channel = f\"s3://{bucket_name}/prostate158/prostate158_train/train\"\n",
    "    test_channel = f\"s3://{bucket_name}/prostate158/prostate158_test/test\"\n",
    "    model_channel = f\"s3://{bucket_name}/models/tumor.pt\"\n",
    "inputs = {\"train\": train_channel, \"test\": test_channel, \"model\": model_channel}\n",
    "print(inputs)"
   ]
  },
  {
   "cell_type": "code",
   "execution_count": null,
   "id": "3e6a9081",
   "metadata": {},
   "outputs": [],
   "source": [
    "%%time\n",
    "from sagemaker.pytorch.estimator import PyTorch\n",
    "import os\n",
    "\n",
    "image = \"763104351884.dkr.ecr.ap-southeast-1.amazonaws.com/pytorch-training:2.6.0-cpu-py312\"\n",
    "\n",
    "def run_training():\n",
    "    estimator = PyTorch(\n",
    "        image_uri=image,\n",
    "        entry_point=\"train_gpt.py\",\n",
    "        source_dir=\".\",\n",
    "        role=role,\n",
    "        region=\"ap-southeast-1\",\n",
    "        instance_type=\"ml.t3.large\",\n",
    "        instance_count=1,\n",
    "        framework_version=\"2.6.0\",\n",
    "        py_version=\"py312\",\n",
    "        enable_spot_training=True,  # for cost savings\n",
    "        max_run=3600,\n",
    "        input_mode=\"File\",\n",
    "        sagemaker_session=sess,\n",
    "        inputs={\n",
    "            \"training\": train_channel,\n",
    "            \"model\": model_channel,\n",
    "            \"training_config\": os.environ.get(\"SM_CHANNEL_TRAINING_CONFIG\", \"./tumor.yaml\"),\n",
    "        }\n",
    "    )\n",
    "    estimator.fit(inputs)\n",
    "\n",
    "run_training()"
   ]
  },
  {
   "cell_type": "code",
   "execution_count": null,
   "id": "34073fd5",
   "metadata": {},
   "outputs": [],
   "source": []
  }
 ],
 "metadata": {
  "kernelspec": {
   "display_name": "p158",
   "language": "python",
   "name": "python3"
  },
  "language_info": {
   "codemirror_mode": {
    "name": "ipython",
    "version": 3
   },
   "file_extension": ".py",
   "mimetype": "text/x-python",
   "name": "python",
   "nbconvert_exporter": "python",
   "pygments_lexer": "ipython3",
   "version": "3.12.11"
  }
 },
 "nbformat": 4,
 "nbformat_minor": 5
}
