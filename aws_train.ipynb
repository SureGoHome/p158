{
 "cells": [
  {
   "cell_type": "code",
   "execution_count": null,
   "id": "869ff176",
   "metadata": {},
   "outputs": [],
   "source": [
    "!pip install monai torch pytorch-ignite pandas pyyaml munch imageio tqdm opencv-python nibabel \"protobuf<=3.20.3\" matplotlib matplotlib-inline\n"
   ]
  },
  {
   "cell_type": "code",
   "execution_count": null,
   "id": "8fbc661e",
   "metadata": {},
   "outputs": [],
   "source": [
    "!pip install sagemaker boto3 awscli"
   ]
  },
  {
   "cell_type": "code",
   "execution_count": 1,
   "id": "b6a5e00e",
   "metadata": {},
   "outputs": [
    {
     "name": "stdout",
     "output_type": "stream",
     "text": [
      "2025-06-19 16:34:55 sagemaker-ap-southeast-1-345594598345\n"
     ]
    }
   ],
   "source": [
    "!aws s3 ls --profile asher"
   ]
  },
  {
   "cell_type": "code",
   "execution_count": 2,
   "id": "16dc47ca",
   "metadata": {},
   "outputs": [],
   "source": [
    "local_dir = \"./data\""
   ]
  },
  {
   "cell_type": "code",
   "execution_count": 3,
   "id": "9f59a2bd",
   "metadata": {},
   "outputs": [
    {
     "name": "stdout",
     "output_type": "stream",
     "text": [
      "sagemaker.config INFO - Not applying SDK defaults from location: /Library/Application Support/sagemaker/config.yaml\n",
      "sagemaker.config INFO - Not applying SDK defaults from location: /Users/asherlim/Library/Application Support/sagemaker/config.yaml\n",
      "Role:  arn:aws:iam::345594598345:role/service-role/AmazonSageMaker-ExecutionRole-20250707T163996\n",
      "sagemaker-ap-southeast-1-345594598345\n"
     ]
    }
   ],
   "source": [
    "import sagemaker\n",
    "import boto3\n",
    "from sagemaker import get_execution_role\n",
    "from sagemaker.local import LocalSession\n",
    "role = \"arn:aws:iam::345594598345:role/service-role/AmazonSageMaker-ExecutionRole-20250707T163996\" #get_execution_role()\n",
    "print(\"Role: \", role)\n",
    "# local_sess = LocalSession()  # for local session\n",
    "# local_sess.config = {'local': {'local_code': True}}\n",
    "\n",
    "sess = sagemaker.Session(boto_session=boto3.Session(region_name=\"ap-southeast-1\", profile_name=\"asher\")) #name of sso session\n",
    "# #for remote session\n",
    "settings = dict(\n",
    "    sagemaker_session=sess,\n",
    "    role=role,\n",
    "    instance_type=\"ml.t3.large\",\n",
    "    dependencies='./requirements.txt',\n",
    ")\n",
    "\n",
    "bucket_name = sess.default_bucket()\n",
    "print(bucket_name)"
   ]
  },
  {
   "cell_type": "code",
   "execution_count": null,
   "id": "afd2b3e4",
   "metadata": {},
   "outputs": [],
   "source": [
    "# !aws s3 cp ./data s3://{bucket_name}/prostate158 --recursive --profile asher\n",
    "# print(\"Done!\")"
   ]
  },
  {
   "cell_type": "code",
   "execution_count": 4,
   "id": "0daea875",
   "metadata": {},
   "outputs": [
    {
     "name": "stdout",
     "output_type": "stream",
     "text": [
      "{'train': 's3://sagemaker-ap-southeast-1-345594598345/prostate158/prostate158_train/train', 'test': 's3://sagemaker-ap-southeast-1-345594598345/prostate158/prostate158_test/test'}\n"
     ]
    }
   ],
   "source": [
    "if bucket_name:\n",
    "    train_channel = f\"s3://{bucket_name}/prostate158/prostate158_train/train\"\n",
    "    test_channel = f\"s3://{bucket_name}/prostate158/prostate158_test/test\"\n",
    "inputs = {\"train\": train_channel, \"test\": test_channel}\n",
    "print(inputs)"
   ]
  },
  {
   "cell_type": "code",
   "execution_count": 9,
   "id": "3e6a9081",
   "metadata": {},
   "outputs": [
    {
     "name": "stdout",
     "output_type": "stream",
     "text": [
      "CPU times: user 1min 14s, sys: 2.43 s, total: 1min 17s\n",
      "Wall time: 1min 18s\n"
     ]
    }
   ],
   "source": [
    "%%time\n",
    "from sagemaker.pytorch.estimator import PyTorch\n",
    "import os\n",
    "\n",
    "image_uri = \"345594598345.dkr.ecr.ap-southeast-1.amazonaws.com/pytorch-python312:latest\"\n",
    "\n",
    "def run_training():\n",
    "    estimator = PyTorch(\n",
    "        image_uri=image_uri,\n",
    "        entry_point=\"train_gpt.py\",\n",
    "        source_dir=\".\",\n",
    "        role=role,\n",
    "        region=\"ap-southeast-1\",\n",
    "        instance_type=\"ml.t3.large\",\n",
    "        instance_count=1,\n",
    "        framework_version=\"2.0.0\",\n",
    "        enable_spot_training=True,  # for cost savings\n",
    "        max_run=3600,\n",
    "        max_wait=4*3600,\n",
    "        input_mode=\"File\",\n",
    "        sagemaker_session=sess,\n",
    "        inputs={\n",
    "            \"training\": train_channel,\n",
    "            \"training_config\": os.environ.get(\"SM_CHANNEL_TRAINING_CONFIG\", \"tumor.yaml\"),\n",
    "        }\n",
    "    )\n",
    "    estimator.fit(inputs)\n",
    "\n",
    "run_training()"
   ]
  },
  {
   "cell_type": "code",
   "execution_count": null,
   "id": "34073fd5",
   "metadata": {},
   "outputs": [],
   "source": []
  }
 ],
 "metadata": {
  "kernelspec": {
   "display_name": "p158",
   "language": "python",
   "name": "python3"
  },
  "language_info": {
   "codemirror_mode": {
    "name": "ipython",
    "version": 3
   },
   "file_extension": ".py",
   "mimetype": "text/x-python",
   "name": "python",
   "nbconvert_exporter": "python",
   "pygments_lexer": "ipython3",
   "version": "3.12.11"
  }
 },
 "nbformat": 4,
 "nbformat_minor": 5
}
